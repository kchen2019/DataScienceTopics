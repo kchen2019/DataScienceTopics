{
 "cells": [
  {
   "cell_type": "code",
   "execution_count": null,
   "id": "a863e296-49dc-43a5-a3bf-180c01a1487e",
   "metadata": {},
   "outputs": [],
   "source": [
    "# This notebook is use to understand gradient descent in linear regression"
   ]
  },
  {
   "cell_type": "code",
   "execution_count": null,
   "id": "e45bcb24-a417-40bc-99ed-9b6f7d89700f",
   "metadata": {
    "tags": []
   },
   "outputs": [],
   "source": [
    "!pip install pandas "
   ]
  },
  {
   "cell_type": "code",
   "execution_count": 1,
   "id": "076b7f40-21ef-4a96-ab41-20d4eedfa0b4",
   "metadata": {},
   "outputs": [
    {
     "data": {
      "text/html": [
       "<div>\n",
       "<style scoped>\n",
       "    .dataframe tbody tr th:only-of-type {\n",
       "        vertical-align: middle;\n",
       "    }\n",
       "\n",
       "    .dataframe tbody tr th {\n",
       "        vertical-align: top;\n",
       "    }\n",
       "\n",
       "    .dataframe thead th {\n",
       "        text-align: right;\n",
       "    }\n",
       "</style>\n",
       "<table border=\"1\" class=\"dataframe\">\n",
       "  <thead>\n",
       "    <tr style=\"text-align: right;\">\n",
       "      <th></th>\n",
       "      <th>R&amp;D Spend</th>\n",
       "      <th>Administration</th>\n",
       "      <th>Marketing Spend</th>\n",
       "      <th>State</th>\n",
       "      <th>Profit</th>\n",
       "    </tr>\n",
       "  </thead>\n",
       "  <tbody>\n",
       "    <tr>\n",
       "      <th>0</th>\n",
       "      <td>165349.20</td>\n",
       "      <td>136897.80</td>\n",
       "      <td>471784.10</td>\n",
       "      <td>New York</td>\n",
       "      <td>192261.83</td>\n",
       "    </tr>\n",
       "    <tr>\n",
       "      <th>1</th>\n",
       "      <td>162597.70</td>\n",
       "      <td>151377.59</td>\n",
       "      <td>443898.53</td>\n",
       "      <td>California</td>\n",
       "      <td>191792.06</td>\n",
       "    </tr>\n",
       "    <tr>\n",
       "      <th>2</th>\n",
       "      <td>153441.51</td>\n",
       "      <td>101145.55</td>\n",
       "      <td>407934.54</td>\n",
       "      <td>Florida</td>\n",
       "      <td>191050.39</td>\n",
       "    </tr>\n",
       "    <tr>\n",
       "      <th>3</th>\n",
       "      <td>144372.41</td>\n",
       "      <td>118671.85</td>\n",
       "      <td>383199.62</td>\n",
       "      <td>New York</td>\n",
       "      <td>182901.99</td>\n",
       "    </tr>\n",
       "    <tr>\n",
       "      <th>4</th>\n",
       "      <td>142107.34</td>\n",
       "      <td>91391.77</td>\n",
       "      <td>366168.42</td>\n",
       "      <td>Florida</td>\n",
       "      <td>166187.94</td>\n",
       "    </tr>\n",
       "  </tbody>\n",
       "</table>\n",
       "</div>"
      ],
      "text/plain": [
       "   R&D Spend  Administration  Marketing Spend       State     Profit\n",
       "0  165349.20       136897.80        471784.10    New York  192261.83\n",
       "1  162597.70       151377.59        443898.53  California  191792.06\n",
       "2  153441.51       101145.55        407934.54     Florida  191050.39\n",
       "3  144372.41       118671.85        383199.62    New York  182901.99\n",
       "4  142107.34        91391.77        366168.42     Florida  166187.94"
      ]
     },
     "execution_count": 1,
     "metadata": {},
     "output_type": "execute_result"
    }
   ],
   "source": [
    "import pandas as pd\n",
    "\n",
    "df = pd.read_csv('/Users/keru/Downloads/50_Startups.csv')\n",
    "df.head()"
   ]
  },
  {
   "cell_type": "code",
   "execution_count": null,
   "id": "2e8d4c47-1fd5-4baf-891f-f040e03dd734",
   "metadata": {},
   "outputs": [],
   "source": [
    "import matplotlib.pyplot as plt\n",
    "\n",
    "fig, ax = plt.subplots(1,3, figsize=(20,5))\n",
    "\n",
    "ax[0].scatter(df['R&D Spend'], df['Administration'])\n",
    "ax[0].set_title('R&D Spend vs Administration')\n",
    "ax[1].scatter(df['R&D Spend'], df['Marketing Spend'])\n",
    "ax[1].set_title('R&D Spend vs Marketing Spend')\n",
    "ax[2].scatter(df['Administration'], df['Marketing Spend'])\n",
    "ax[2].set_title('Administration vs Marketing Spend')\n"
   ]
  },
  {
   "cell_type": "code",
   "execution_count": null,
   "id": "f8653e67-49cc-4b88-a42e-2d66f9ba8dc4",
   "metadata": {},
   "outputs": [],
   "source": [
    "# correlation coefficient \n",
    "from sklearn.linear_model import LinearRegression\n",
    "import numpy as np\n",
    "model = LinearRegression()\n",
    "model.fit(df['R&D Spend'].values.reshape(-1,1), df['Marketing Spend'].values)\n",
    "r = np.sqrt(model.score(df['R&D Spend'].values.reshape(-1,1), df['Marketing Spend'].values))\n",
    "print(r)"
   ]
  },
  {
   "cell_type": "code",
   "execution_count": null,
   "id": "e616bacb-a49a-4c87-9e02-4537f9b0a6f4",
   "metadata": {},
   "outputs": [],
   "source": [
    "fig, ax = plt.subplots(1,2, figsize=(20,5))\n",
    "\n",
    "ax[0].scatter(df['R&D Spend'], df['Profit'])\n",
    "ax[0].set_title('R&D Spend vs Profit')\n",
    "ax[1].scatter(df['Administration'], df['Profit'])\n",
    "ax[1].set_title('Administration vs Profit')\n",
    "plt.show()"
   ]
  },
  {
   "cell_type": "code",
   "execution_count": null,
   "id": "4c750e17-c79c-4ac5-9a1f-d2f5d03ae16f",
   "metadata": {},
   "outputs": [],
   "source": [
    "import seaborn as sns\n",
    "sns.scatterplot(data=df, x=\"R&D Spend\", y=\"Profit\", hue=\"State\")"
   ]
  },
  {
   "cell_type": "code",
   "execution_count": null,
   "id": "23752851-d246-4495-b333-411466db0e69",
   "metadata": {},
   "outputs": [],
   "source": [
    "# normal probability plot \n",
    "import scipy\n",
    "y = np.sort([(x - np.mean(df.Profit.values))/np.std(df.Profit.values) for x in df.Profit.values])\n",
    "f = [(x-0.375)/(df.shape[0]+0.25) for x in df.index.values+1]\n",
    "zscore = scipy.stats.norm(0,1).ppf(f)\n",
    "plt.scatter(zscore, y)\n",
    "plt.title('Normal Probability Plot for Profit')\n",
    "plt.show()"
   ]
  },
  {
   "cell_type": "code",
   "execution_count": 3,
   "id": "f7b8c746-154c-4e7b-896c-79bd0a6d79ac",
   "metadata": {},
   "outputs": [],
   "source": [
    "import numpy as np\n",
    "# least square solution \n",
    "y = df.Profit.values\n",
    "x = df['R&D Spend'].values\n",
    "n = df.shape[0]\n",
    "\n",
    "# normalize \n",
    "y_normalizer = np.sqrt(sum(y**2))\n",
    "y_norm = y/y_normalizer\n",
    "\n",
    "x_normalizer = np.sqrt(sum(x**2))\n",
    "x_norm = x/x_normalizer"
   ]
  },
  {
   "cell_type": "code",
   "execution_count": 49,
   "id": "89f0ec60-dbf0-4fc3-9d48-a408ee02f5de",
   "metadata": {},
   "outputs": [
    {
     "name": "stdout",
     "output_type": "stream",
     "text": [
      "0.6221874892402971\n",
      "0.05831688693883927\n"
     ]
    }
   ],
   "source": [
    "# least square solution \n",
    "b1 = (sum(y_norm*x_norm) - sum(y_norm)*sum(x_norm)/n)/(sum([t**2 for t in x_norm]) - sum(x_norm)*sum(x_norm)/n)\n",
    "print(b1)\n",
    "b0 = (sum(y_norm) - b1*sum(x_norm))/n\n",
    "print(b0)"
   ]
  },
  {
   "cell_type": "code",
   "execution_count": null,
   "id": "c6a4c91f-f071-402e-b501-665bde88cd0b",
   "metadata": {},
   "outputs": [],
   "source": [
    "def rss(b0, b1, df):\n",
    "    rss = 0\n",
    "    for i in range(0, df.shape[0]):\n",
    "        rss += (df.Profit.values[i] - (b0 * df['R&D Spend'].values[i] + b1)) ** 2\n",
    "    return rss\n",
    "grid_b0 = np.linspace(0.5, 1.2, 50)\n",
    "grid_b1 = np.linspace(45000, 55000, 50)\n",
    "fig = plt.figure(figsize = (10, 10))\n",
    "ax = fig.add_subplot(111, projection='3d')\n",
    "grid_b0, grid_b1 = np.meshgrid(grid_b0, grid_b1)\n",
    "zs = np.array([rss(x,y, df) for x,y in zip(np.ravel(grid_b0), np.ravel(grid_b1))])\n",
    "Z = zs.reshape(grid_b0.shape)\n",
    "ax.plot_surface(grid_b0, grid_b1, Z, rstride=1, cstride=1, color='red', alpha = 0.5)\n",
    "ax.set_xlabel('b1');ax.set_ylabel('b0');ax.set_zlabel('RSS')              \n",
    "plt.show()"
   ]
  },
  {
   "cell_type": "code",
   "execution_count": 4,
   "id": "f2532339-21c7-44fb-8dfc-00ec768cf07e",
   "metadata": {},
   "outputs": [],
   "source": [
    "# gradient descent \n",
    "def gradient_descent(b0, b1, stepsize): \n",
    "    # calculate gradient descent \n",
    "    g_b0 = -2*sum(y_norm-(b0+b1*x_norm))\n",
    "    g_b1 = -2*sum([(y_i-(b0+b1*x_i))*x_i for x_i, y_i in zip(x_norm, y_norm)])\n",
    "    # update both b0 and b1\n",
    "    b1_new = b1 - stepsize*g_b1\n",
    "    b0_new = b0 - stepsize*g_b0\n",
    "    return b0_new, b1_new, g_b0, g_b1"
   ]
  },
  {
   "cell_type": "code",
   "execution_count": 54,
   "id": "56de7c42-5093-4aca-a5ba-7639d465f61e",
   "metadata": {
    "tags": []
   },
   "outputs": [
    {
     "data": {
      "text/plain": [
       "Text(0.5, 1.0, 'Gradient Vector Length')"
      ]
     },
     "execution_count": 54,
     "metadata": {},
     "output_type": "execute_result"
    },
    {
     "data": {
      "image/png": "[encoded data removed]",
      "text/plain": [
       "<Figure size 432x288 with 1 Axes>"
      ]
     },
     "metadata": {
      "needs_background": "light"
     },
     "output_type": "display_data"
    }
   ],
   "source": [
    "gradient_vector_length = []\n",
    "\n",
    "# inital stepsize, b0, b1, gradient b0 and gradient b1 at iteration 0 \n",
    "stepsize = 0.01\n",
    "b0=0; b1=0\n",
    "g_b0 = 1; g_b1 = 1\n",
    "\n",
    "# while not converge (tolerance is 0.0001)\n",
    "while np.sqrt(g_b0**2 + g_b1**2) > 0.0001:\n",
    "    # get b0 and b1 at t+1\n",
    "    b0, b1, g_b0, g_b1 = gradient_descent(b0, b1, stepsize)\n",
    "    # collect gradient_vector_length for plot\n",
    "    gradient_vector_length.append(np.sqrt(g_b0**2 + g_b1**2))\n",
    "    \n",
    "plt.plot(gradient_vector_length) \n",
    "plt.title('Gradient Vector Length')   "
   ]
  },
  {
   "cell_type": "code",
   "execution_count": 55,
   "id": "902ce8ef-0def-45d1-aa5d-d871101ec676",
   "metadata": {
    "tags": []
   },
   "outputs": [
    {
     "name": "stdout",
     "output_type": "stream",
     "text": [
      "0.0583388446887637\n",
      "0.6220060889560697\n"
     ]
    }
   ],
   "source": [
    "print(b0)\n",
    "print(b1)"
   ]
  },
  {
   "cell_type": "code",
   "execution_count": 5,
   "id": "bf6d7094-2791-4306-9d13-41282544663e",
   "metadata": {},
   "outputs": [],
   "source": [
    "# stochastic gradient descent \n",
    "def stochastic_gradient_descent(b0, b1, stepsize, yi, xi):\n",
    "    # calculate gradient for data point i\n",
    "    g_b0 = -2*(yi-(b0+b1*xi))\n",
    "    g_b1 = -2*((yi-(b0+b1*xi))*xi)\n",
    "    # update b0 and b1\n",
    "    b1_new = b1 - stepsize*g_b1\n",
    "    b0_new = b0 - stepsize*g_b0\n",
    "    return b0_new, b1_new, g_b0, g_b1"
   ]
  },
  {
   "cell_type": "code",
   "execution_count": 37,
   "id": "54f862ff-8a6d-4bc0-8b4b-196bdc832ee9",
   "metadata": {},
   "outputs": [],
   "source": [
    "import sklearn \n",
    "\n",
    "df_shuffled=sklearn.utils.shuffle(df)\n",
    "\n",
    "y = df_shuffled.Profit.values\n",
    "x = df_shuffled['R&D Spend'].values\n",
    "\n",
    "# normalize \n",
    "y_normalizer = np.sqrt(sum(y**2))\n",
    "y_norm = y/y_normalizer\n",
    "\n",
    "x_normalizer = np.sqrt(sum(x**2))\n",
    "x_norm = x/x_normalizer"
   ]
  },
  {
   "cell_type": "code",
   "execution_count": 38,
   "id": "e994e7f4-0a57-45fa-95b1-82fa498de5a3",
   "metadata": {},
   "outputs": [],
   "source": [
    "import numpy as np\n",
    "stepsize = [0.5, 0.1, 0.05, 0.01, 0.001]\n",
    "\n",
    "graident_vector_length_dict = dict()\n",
    "b1_dict = dict()\n",
    "b0_dict = dict()\n",
    "number_of_pass_dict = dict()"
   ]
  },
  {
   "cell_type": "code",
   "execution_count": 39,
   "id": "74c5ddfb-42af-47c4-b3ae-0d002ce90dab",
   "metadata": {},
   "outputs": [
    {
     "name": "stdout",
     "output_type": "stream",
     "text": [
      "gradient vector length is:  2.2369785591231385e-05\n",
      "gradient vector length is:  2.4113398100190574e-05\n",
      "gradient vector length is:  7.853230444937208e-05\n",
      "gradient vector length is:  7.42546601800491e-05\n",
      "gradient vector length is:  6.000530809129273e-05\n"
     ]
    }
   ],
   "source": [
    "for stepsize_i in stepsize:\n",
    "    \n",
    "    gradient_vector_length = []\n",
    "    b0_sgd = []\n",
    "    b1_sgd = []\n",
    "    # inital stepsize, b0, b1, gradient b0 and gradient b1 at iteration 0 \n",
    "    stepsize = stepsize_i\n",
    "    b0=0; b1=0\n",
    "    g_b0 = 1; g_b1 = 1\n",
    "    # while not converge (tolerance is 0.0001)\n",
    "    satisfied = False\n",
    "    tol = 0.0001\n",
    "    number_of_pass = 0\n",
    "    while satisfied == False:\n",
    "        # if go over the entire dataframe, then add one\n",
    "        number_of_pass +=1\n",
    "        for i in range(df.shape[0]):\n",
    "            xi = x_norm[i]\n",
    "            yi = y_norm[i]    \n",
    "            # get b0 and b1 at t+1\n",
    "            b0, b1, g_b0, g_b1 = stochastic_gradient_descent(b0, b1, stepsize, yi, xi)\n",
    "            b0_sgd.append(b0)\n",
    "            b1_sgd.append(b1)\n",
    "            # collect gradient_vector_length for plot\n",
    "            gradient_vector_length.append(np.sqrt(g_b0**2 + g_b1**2))\n",
    "            # check is gradient vector size is smaller than tolerance \n",
    "            satisfied = np.sqrt(g_b0**2 + g_b1**2) < tol\n",
    "            if satisfied:\n",
    "                print('gradient vector length is: ', np.sqrt(g_b0**2 + g_b1**2))\n",
    "                break\n",
    "                \n",
    "    graident_vector_length_dict[str(stepsize)] = gradient_vector_length\n",
    "    b1_dict[str(stepsize)] = np.mean(b1_sgd[200:])\n",
    "    b0_dict[str(stepsize)] = np.mean(b0_sgd[200:])\n",
    "    number_of_pass_dict[str(stepsize)] = number_of_pass\n"
   ]
  },
  {
   "cell_type": "code",
   "execution_count": 46,
   "id": "bb0dce28-7092-4ba4-b14e-11eb38ac3de4",
   "metadata": {
    "tags": []
   },
   "outputs": [
    {
     "data": {
      "image/png": "[encoded data removed]",
      "text/plain": [
       "<Figure size 1440x360 with 5 Axes>"
      ]
     },
     "metadata": {
      "needs_background": "light"
     },
     "output_type": "display_data"
    }
   ],
   "source": [
    "import matplotlib.pyplot as plt\n",
    "fig, axes = plt.subplots(1,5, figsize=(20,5))\n",
    "\n",
    "for i, (key, value) in enumerate(graident_vector_length_dict.items()):\n",
    "    axes[i].plot(value)\n",
    "    axes[i].set(title=key.upper(), xlabel='Gradient Vector Length')\n",
    "plt.show()"
   ]
  },
  {
   "cell_type": "code",
   "execution_count": 47,
   "id": "fbf16534-2d34-4fd8-96f4-fa4c7c997f7e",
   "metadata": {},
   "outputs": [
    {
     "data": {
      "text/plain": [
       "0.06528698208452774"
      ]
     },
     "execution_count": 47,
     "metadata": {},
     "output_type": "execute_result"
    }
   ],
   "source": [
    "b0_dict['0.5']"
   ]
  },
  {
   "cell_type": "code",
   "execution_count": 48,
   "id": "5bfdae79-4878-49f5-a4a4-2c84d1e52a00",
   "metadata": {},
   "outputs": [
    {
     "data": {
      "text/plain": [
       "0.5647135826267832"
      ]
     },
     "execution_count": 48,
     "metadata": {},
     "output_type": "execute_result"
    }
   ],
   "source": [
    "b1_dict['0.5']"
   ]
  },
  {
   "cell_type": "code",
   "execution_count": 43,
   "id": "428669fa-bb57-4c40-9e50-4e39771599d9",
   "metadata": {},
   "outputs": [
    {
     "data": {
      "text/plain": [
       "{'0.5': 10, '0.1': 5, '0.05': 29, '0.01': 30, '0.001': 20}"
      ]
     },
     "execution_count": 43,
     "metadata": {},
     "output_type": "execute_result"
    }
   ],
   "source": [
    "number_of_pass_dict"
   ]
  },
  {
   "cell_type": "code",
   "execution_count": null,
   "id": "cf90f830-2bb0-4087-b3d4-ad63bd92c7f9",
   "metadata": {},
   "outputs": [],
   "source": []
  }
 ],
 "metadata": {
  "kernelspec": {
   "display_name": "venv",
   "language": "python",
   "name": "venv"
  },
  "language_info": {
   "codemirror_mode": {
    "name": "ipython",
    "version": 3
   },
   "file_extension": ".py",
   "mimetype": "text/x-python",
   "name": "python",
   "nbconvert_exporter": "python",
   "pygments_lexer": "ipython3",
   "version": "3.8.9"
  }
 },
 "nbformat": 4,
 "nbformat_minor": 5
}
